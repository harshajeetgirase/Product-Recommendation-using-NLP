{
 "cells": [
  {
   "cell_type": "code",
   "execution_count": 1,
   "id": "577b72f4-8d86-455d-91c2-85b7617ef761",
   "metadata": {},
   "outputs": [],
   "source": [
    "import pandas as pd"
   ]
  },
  {
   "cell_type": "code",
   "execution_count": 2,
   "id": "f22a245b-b877-481b-abcf-3c038e25be90",
   "metadata": {},
   "outputs": [],
   "source": [
    "df = pd.read_csv('Data/Major.csv')"
   ]
  },
  {
   "cell_type": "code",
   "execution_count": 3,
   "id": "876846ae-b887-4f6b-9d17-06926d0a134d",
   "metadata": {},
   "outputs": [
    {
     "data": {
      "text/html": [
       "<div>\n",
       "<style scoped>\n",
       "    .dataframe tbody tr th:only-of-type {\n",
       "        vertical-align: middle;\n",
       "    }\n",
       "\n",
       "    .dataframe tbody tr th {\n",
       "        vertical-align: top;\n",
       "    }\n",
       "\n",
       "    .dataframe thead th {\n",
       "        text-align: right;\n",
       "    }\n",
       "</style>\n",
       "<table border=\"1\" class=\"dataframe\">\n",
       "  <thead>\n",
       "    <tr style=\"text-align: right;\">\n",
       "      <th></th>\n",
       "      <th>Brand</th>\n",
       "      <th>Product Name</th>\n",
       "      <th>Description</th>\n",
       "      <th>Category</th>\n",
       "      <th>Rating</th>\n",
       "      <th>Discount_price</th>\n",
       "      <th>Original_price</th>\n",
       "      <th>Image_url</th>\n",
       "      <th>Url</th>\n",
       "    </tr>\n",
       "  </thead>\n",
       "  <tbody>\n",
       "    <tr>\n",
       "      <th>0</th>\n",
       "      <td>ZEBRONICS</td>\n",
       "      <td>ZEBRONICS Zeb- Thunder, With 60H Backup, BT v5...</td>\n",
       "      <td>Black, On the Ear</td>\n",
       "      <td>headphones and earphones</td>\n",
       "      <td>4</td>\n",
       "      <td>699</td>\n",
       "      <td>1699</td>\n",
       "      <td>https://rukminim2.flixcart.com/image/612/612/x...</td>\n",
       "      <td>https://www.flipkart.com/zebronics-zeb-thunder...</td>\n",
       "    </tr>\n",
       "    <tr>\n",
       "      <th>1</th>\n",
       "      <td>OnePlus</td>\n",
       "      <td>OnePlus Bullets Wireless Z2 Bluetooth</td>\n",
       "      <td>Acoustic Red, In the Ear</td>\n",
       "      <td>headphones and earphones</td>\n",
       "      <td>4.3</td>\n",
       "      <td>1299</td>\n",
       "      <td>2299</td>\n",
       "      <td>https://rukminim2.flixcart.com/image/612/612/l...</td>\n",
       "      <td>https://www.flipkart.com/oneplus-bullets-wirel...</td>\n",
       "    </tr>\n",
       "    <tr>\n",
       "      <th>2</th>\n",
       "      <td>boAt</td>\n",
       "      <td>boAt Rockerz 430 w/ Beast Mode(40ms Low Latenc...</td>\n",
       "      <td>Bold Blue, On the Ear</td>\n",
       "      <td>headphones and earphones</td>\n",
       "      <td>4</td>\n",
       "      <td>1199</td>\n",
       "      <td>2490</td>\n",
       "      <td>https://rukminim2.flixcart.com/image/612/612/x...</td>\n",
       "      <td>https://www.flipkart.com/boat-rockerz-430-w-be...</td>\n",
       "    </tr>\n",
       "    <tr>\n",
       "      <th>3</th>\n",
       "      <td>OnePlus</td>\n",
       "      <td>OnePlus Bullets Wireless Z2 Bluetooth</td>\n",
       "      <td>Beam Blue, In the Ear</td>\n",
       "      <td>headphones and earphones</td>\n",
       "      <td>4.3</td>\n",
       "      <td>1299</td>\n",
       "      <td>2299</td>\n",
       "      <td>https://rukminim2.flixcart.com/image/612/612/l...</td>\n",
       "      <td>https://www.flipkart.com/oneplus-bullets-wirel...</td>\n",
       "    </tr>\n",
       "    <tr>\n",
       "      <th>4</th>\n",
       "      <td>Sennheiser</td>\n",
       "      <td>Sennheiser Accentum Wireless Over Ear Headphon...</td>\n",
       "      <td>Black, On the Ear</td>\n",
       "      <td>headphones and earphones</td>\n",
       "      <td>4.1</td>\n",
       "      <td>12990</td>\n",
       "      <td>14990</td>\n",
       "      <td>https://rukminim2.flixcart.com/image/612/612/x...</td>\n",
       "      <td>https://www.flipkart.com/sennheiser-accentum-w...</td>\n",
       "    </tr>\n",
       "  </tbody>\n",
       "</table>\n",
       "</div>"
      ],
      "text/plain": [
       "         Brand                                       Product Name  \\\n",
       "0   ZEBRONICS   ZEBRONICS Zeb- Thunder, With 60H Backup, BT v5...   \n",
       "1     OnePlus               OnePlus Bullets Wireless Z2 Bluetooth   \n",
       "2        boAt   boAt Rockerz 430 w/ Beast Mode(40ms Low Latenc...   \n",
       "3     OnePlus               OnePlus Bullets Wireless Z2 Bluetooth   \n",
       "4  Sennheiser   Sennheiser Accentum Wireless Over Ear Headphon...   \n",
       "\n",
       "                Description                  Category Rating  Discount_price  \\\n",
       "0         Black, On the Ear  headphones and earphones      4             699   \n",
       "1  Acoustic Red, In the Ear  headphones and earphones    4.3            1299   \n",
       "2     Bold Blue, On the Ear  headphones and earphones      4            1199   \n",
       "3     Beam Blue, In the Ear  headphones and earphones    4.3            1299   \n",
       "4         Black, On the Ear  headphones and earphones    4.1           12990   \n",
       "\n",
       "   Original_price                                          Image_url  \\\n",
       "0            1699  https://rukminim2.flixcart.com/image/612/612/x...   \n",
       "1            2299  https://rukminim2.flixcart.com/image/612/612/l...   \n",
       "2            2490  https://rukminim2.flixcart.com/image/612/612/x...   \n",
       "3            2299  https://rukminim2.flixcart.com/image/612/612/l...   \n",
       "4           14990  https://rukminim2.flixcart.com/image/612/612/x...   \n",
       "\n",
       "                                                 Url  \n",
       "0  https://www.flipkart.com/zebronics-zeb-thunder...  \n",
       "1  https://www.flipkart.com/oneplus-bullets-wirel...  \n",
       "2  https://www.flipkart.com/boat-rockerz-430-w-be...  \n",
       "3  https://www.flipkart.com/oneplus-bullets-wirel...  \n",
       "4  https://www.flipkart.com/sennheiser-accentum-w...  "
      ]
     },
     "execution_count": 3,
     "metadata": {},
     "output_type": "execute_result"
    }
   ],
   "source": [
    "df.head()"
   ]
  },
  {
   "cell_type": "code",
   "execution_count": 4,
   "id": "8501bc5f-06f8-43f8-9d73-8972aefe08df",
   "metadata": {},
   "outputs": [],
   "source": [
    "import os"
   ]
  },
  {
   "cell_type": "code",
   "execution_count": null,
   "id": "28005e63-cde4-4a20-932f-1f1681d50bf1",
   "metadata": {},
   "outputs": [],
   "source": []
  },
  {
   "cell_type": "code",
   "execution_count": null,
   "id": "bac1f25b-406e-40ba-a6a2-426dd627802b",
   "metadata": {},
   "outputs": [],
   "source": []
  }
 ],
 "metadata": {
  "kernelspec": {
   "display_name": "Python 3 (ipykernel)",
   "language": "python",
   "name": "python3"
  },
  "language_info": {
   "codemirror_mode": {
    "name": "ipython",
    "version": 3
   },
   "file_extension": ".py",
   "mimetype": "text/x-python",
   "name": "python",
   "nbconvert_exporter": "python",
   "pygments_lexer": "ipython3",
   "version": "3.12.7"
  }
 },
 "nbformat": 4,
 "nbformat_minor": 5
}
