{
 "cells": [
  {
   "cell_type": "code",
   "execution_count": 1,
   "id": "8ae45238-3919-43e4-a568-b2272e989769",
   "metadata": {},
   "outputs": [],
   "source": [
    "import pandas as pd\n",
    "\n",
    "import numpy as np\n"
   ]
  },
  {
   "cell_type": "code",
   "execution_count": 2,
   "id": "aeef9c39-cfec-43e5-98be-218a11717e69",
   "metadata": {},
   "outputs": [],
   "source": [
    "df = pd.read_csv(\"Data/Major.csv\")"
   ]
  },
  {
   "cell_type": "code",
   "execution_count": 3,
   "id": "4b9324ce-3e0e-4e48-94e4-cc0923ed65fb",
   "metadata": {},
   "outputs": [
    {
     "data": {
      "text/html": [
       "<div>\n",
       "<style scoped>\n",
       "    .dataframe tbody tr th:only-of-type {\n",
       "        vertical-align: middle;\n",
       "    }\n",
       "\n",
       "    .dataframe tbody tr th {\n",
       "        vertical-align: top;\n",
       "    }\n",
       "\n",
       "    .dataframe thead th {\n",
       "        text-align: right;\n",
       "    }\n",
       "</style>\n",
       "<table border=\"1\" class=\"dataframe\">\n",
       "  <thead>\n",
       "    <tr style=\"text-align: right;\">\n",
       "      <th></th>\n",
       "      <th>Brand</th>\n",
       "      <th>Product Name</th>\n",
       "      <th>Description</th>\n",
       "      <th>Category</th>\n",
       "      <th>Rating</th>\n",
       "      <th>Discount_price</th>\n",
       "      <th>Original_price</th>\n",
       "      <th>Image_url</th>\n",
       "      <th>Url</th>\n",
       "    </tr>\n",
       "  </thead>\n",
       "  <tbody>\n",
       "    <tr>\n",
       "      <th>0</th>\n",
       "      <td>ZEBRONICS</td>\n",
       "      <td>ZEBRONICS Zeb- Thunder, With 60H Backup, BT v5...</td>\n",
       "      <td>Black, On the Ear</td>\n",
       "      <td>headphones and earphones</td>\n",
       "      <td>4</td>\n",
       "      <td>699</td>\n",
       "      <td>1699</td>\n",
       "      <td>https://rukminim2.flixcart.com/image/612/612/x...</td>\n",
       "      <td>https://www.flipkart.com/zebronics-zeb-thunder...</td>\n",
       "    </tr>\n",
       "    <tr>\n",
       "      <th>1</th>\n",
       "      <td>OnePlus</td>\n",
       "      <td>OnePlus Bullets Wireless Z2 Bluetooth</td>\n",
       "      <td>Acoustic Red, In the Ear</td>\n",
       "      <td>headphones and earphones</td>\n",
       "      <td>4.3</td>\n",
       "      <td>1299</td>\n",
       "      <td>2299</td>\n",
       "      <td>https://rukminim2.flixcart.com/image/612/612/l...</td>\n",
       "      <td>https://www.flipkart.com/oneplus-bullets-wirel...</td>\n",
       "    </tr>\n",
       "    <tr>\n",
       "      <th>2</th>\n",
       "      <td>boAt</td>\n",
       "      <td>boAt Rockerz 430 w/ Beast Mode(40ms Low Latenc...</td>\n",
       "      <td>Bold Blue, On the Ear</td>\n",
       "      <td>headphones and earphones</td>\n",
       "      <td>4</td>\n",
       "      <td>1199</td>\n",
       "      <td>2490</td>\n",
       "      <td>https://rukminim2.flixcart.com/image/612/612/x...</td>\n",
       "      <td>https://www.flipkart.com/boat-rockerz-430-w-be...</td>\n",
       "    </tr>\n",
       "    <tr>\n",
       "      <th>3</th>\n",
       "      <td>OnePlus</td>\n",
       "      <td>OnePlus Bullets Wireless Z2 Bluetooth</td>\n",
       "      <td>Beam Blue, In the Ear</td>\n",
       "      <td>headphones and earphones</td>\n",
       "      <td>4.3</td>\n",
       "      <td>1299</td>\n",
       "      <td>2299</td>\n",
       "      <td>https://rukminim2.flixcart.com/image/612/612/l...</td>\n",
       "      <td>https://www.flipkart.com/oneplus-bullets-wirel...</td>\n",
       "    </tr>\n",
       "    <tr>\n",
       "      <th>4</th>\n",
       "      <td>Sennheiser</td>\n",
       "      <td>Sennheiser Accentum Wireless Over Ear Headphon...</td>\n",
       "      <td>Black, On the Ear</td>\n",
       "      <td>headphones and earphones</td>\n",
       "      <td>4.1</td>\n",
       "      <td>12990</td>\n",
       "      <td>14990</td>\n",
       "      <td>https://rukminim2.flixcart.com/image/612/612/x...</td>\n",
       "      <td>https://www.flipkart.com/sennheiser-accentum-w...</td>\n",
       "    </tr>\n",
       "  </tbody>\n",
       "</table>\n",
       "</div>"
      ],
      "text/plain": [
       "         Brand                                       Product Name  \\\n",
       "0   ZEBRONICS   ZEBRONICS Zeb- Thunder, With 60H Backup, BT v5...   \n",
       "1     OnePlus               OnePlus Bullets Wireless Z2 Bluetooth   \n",
       "2        boAt   boAt Rockerz 430 w/ Beast Mode(40ms Low Latenc...   \n",
       "3     OnePlus               OnePlus Bullets Wireless Z2 Bluetooth   \n",
       "4  Sennheiser   Sennheiser Accentum Wireless Over Ear Headphon...   \n",
       "\n",
       "                Description                  Category Rating  Discount_price  \\\n",
       "0         Black, On the Ear  headphones and earphones      4             699   \n",
       "1  Acoustic Red, In the Ear  headphones and earphones    4.3            1299   \n",
       "2     Bold Blue, On the Ear  headphones and earphones      4            1199   \n",
       "3     Beam Blue, In the Ear  headphones and earphones    4.3            1299   \n",
       "4         Black, On the Ear  headphones and earphones    4.1           12990   \n",
       "\n",
       "   Original_price                                          Image_url  \\\n",
       "0            1699  https://rukminim2.flixcart.com/image/612/612/x...   \n",
       "1            2299  https://rukminim2.flixcart.com/image/612/612/l...   \n",
       "2            2490  https://rukminim2.flixcart.com/image/612/612/x...   \n",
       "3            2299  https://rukminim2.flixcart.com/image/612/612/l...   \n",
       "4           14990  https://rukminim2.flixcart.com/image/612/612/x...   \n",
       "\n",
       "                                                 Url  \n",
       "0  https://www.flipkart.com/zebronics-zeb-thunder...  \n",
       "1  https://www.flipkart.com/oneplus-bullets-wirel...  \n",
       "2  https://www.flipkart.com/boat-rockerz-430-w-be...  \n",
       "3  https://www.flipkart.com/oneplus-bullets-wirel...  \n",
       "4  https://www.flipkart.com/sennheiser-accentum-w...  "
      ]
     },
     "execution_count": 3,
     "metadata": {},
     "output_type": "execute_result"
    }
   ],
   "source": [
    "df.head()"
   ]
  },
  {
   "cell_type": "code",
   "execution_count": 4,
   "id": "a019e857-cc54-4aa2-99fa-a4de32e49622",
   "metadata": {},
   "outputs": [
    {
     "data": {
      "text/plain": [
       "Brand             0\n",
       "Product Name      0\n",
       "Description       0\n",
       "Category          0\n",
       "Rating            0\n",
       "Discount_price    0\n",
       "Original_price    0\n",
       "Image_url         0\n",
       "Url               0\n",
       "dtype: int64"
      ]
     },
     "execution_count": 4,
     "metadata": {},
     "output_type": "execute_result"
    }
   ],
   "source": [
    "## Checking the Missing values present in the dataset \n",
    "\n",
    "df.isnull().sum()"
   ]
  },
  {
   "cell_type": "code",
   "execution_count": 5,
   "id": "262f34f0-a16d-44c1-adfd-95d21611c4de",
   "metadata": {},
   "outputs": [
    {
     "data": {
      "text/plain": [
       "Index(['Brand', 'Product Name', 'Description', 'Category', 'Rating',\n",
       "       'Discount_price', 'Original_price', 'Image_url', 'Url'],\n",
       "      dtype='object')"
      ]
     },
     "execution_count": 5,
     "metadata": {},
     "output_type": "execute_result"
    }
   ],
   "source": [
    "df.columns"
   ]
  },
  {
   "cell_type": "code",
   "execution_count": 6,
   "id": "6b7c8f70-f351-402e-a6e0-735e6334ad8b",
   "metadata": {},
   "outputs": [
    {
     "data": {
      "text/plain": [
       "0"
      ]
     },
     "execution_count": 6,
     "metadata": {},
     "output_type": "execute_result"
    }
   ],
   "source": [
    "df.duplicated().sum()"
   ]
  },
  {
   "cell_type": "markdown",
   "id": "f1373171-5c13-45ce-9b1f-282d99f7a30c",
   "metadata": {},
   "source": [
    "## 1. Text Features (Product Name, Description)\n",
    "\n",
    "    Lowercasing\n",
    "    \n",
    "    Remove punctuation, numbers, special characters\n",
    "    \n",
    "    Remove stopwords\n",
    "    \n",
    "    Lemmatization/Stemming\n",
    "    \n",
    "    Convert to numeric representation (TF-IDF or embeddings)"
   ]
  },
  {
   "cell_type": "code",
   "execution_count": 7,
   "id": "c4e9d623-2c3a-4395-a7c8-18381830fed7",
   "metadata": {},
   "outputs": [],
   "source": [
    "import re\n",
    "import nltk\n",
    "from nltk.corpus import stopwords\n",
    "from nltk.stem import WordNetLemmatizer\n",
    "\n",
    "# nltk.download(\"stopwords\")\n",
    "# nltk.download(\"wordnet\")\n",
    "\n",
    "def clean_text(text):\n",
    "    text = str(text).lower()\n",
    "    text = re.sub(r\"[^a-z0-9\\s]\", \"\", text)   # keep letters + numbers\n",
    "    tokens = text.split()\n",
    "    tokens = [t for t in tokens if t not in stopwords.words(\"english\")]\n",
    "    lemmatizer = WordNetLemmatizer()\n",
    "    tokens = [lemmatizer.lemmatize(t) for t in tokens]\n",
    "    return \" \".join(tokens)\n",
    "\n",
    "df[\"clean_name\"] = df[\"Product Name\"].apply(clean_text)\n",
    "# df[\"clean_desc\"] = df[\"Description\"].apply(clean_text)\n"
   ]
  },
  {
   "cell_type": "code",
   "execution_count": 8,
   "id": "278594c5-34ca-468a-9e34-34d703ba8bc5",
   "metadata": {},
   "outputs": [
    {
     "data": {
      "text/plain": [
       "0           zebronics zeb thunder 60h backup bt v53 gamin\n",
       "1                    oneplus bullet wireless z2 bluetooth\n",
       "2       boat rockerz 430 w beast mode40ms low latency4...\n",
       "3                    oneplus bullet wireless z2 bluetooth\n",
       "4       sennheiser accentum wireless ear headphone design\n",
       "                              ...                        \n",
       "6061          marq flipkart 80 cm 32 inch hd ready led tv\n",
       "6062           xelectron 80 cm 32 inch hd ready 3d led tv\n",
       "6063                   iair 81 cm 32 inch hd ready led tv\n",
       "6064                   iair 60 cm 24 inch hd ready led tv\n",
       "6065        xelectron 60 cm 24 inch hd ready led linux tv\n",
       "Name: clean_name, Length: 6066, dtype: object"
      ]
     },
     "execution_count": 8,
     "metadata": {},
     "output_type": "execute_result"
    }
   ],
   "source": [
    "df['clean_name']"
   ]
  },
  {
   "cell_type": "markdown",
   "id": "c000c5de-e29e-4f5d-8aee-7f5e98df4665",
   "metadata": {},
   "source": [
    "## Model Training"
   ]
  },
  {
   "cell_type": "code",
   "execution_count": 9,
   "id": "13575c59-9edf-47a3-84e8-73b1146952dc",
   "metadata": {},
   "outputs": [],
   "source": [
    "from sklearn.feature_extraction.text import TfidfVectorizer\n",
    "\n",
    "tfidf = TfidfVectorizer(stop_words=\"english\", max_features=6000)\n",
    "tfidf_matrix = tfidf.fit_transform(df[\"clean_name\"])\n"
   ]
  },
  {
   "cell_type": "code",
   "execution_count": 10,
   "id": "11494192-fb81-4c8c-be0c-067a1ddd8fb6",
   "metadata": {},
   "outputs": [],
   "source": [
    "from sklearn.metrics.pairwise import cosine_similarity\n",
    "\n",
    "cosine_sim = cosine_similarity(tfidf_matrix)\n"
   ]
  },
  {
   "cell_type": "code",
   "execution_count": 11,
   "id": "7369893d-422b-4f99-8b9d-6eb631b50f7e",
   "metadata": {},
   "outputs": [
    {
     "data": {
      "text/plain": [
       "array(['zebronics zeb thunder 60h backup bt v53 gamin',\n",
       "       'oneplus bullet wireless z2 bluetooth',\n",
       "       'boat rockerz 430 w beast mode40ms low latency40hrs', ...,\n",
       "       'iair 81 cm 32 inch hd ready led tv',\n",
       "       'iair 60 cm 24 inch hd ready led tv',\n",
       "       'xelectron 60 cm 24 inch hd ready led linux tv'], dtype=object)"
      ]
     },
     "execution_count": 11,
     "metadata": {},
     "output_type": "execute_result"
    }
   ],
   "source": [
    "df['clean_name'].values"
   ]
  },
  {
   "cell_type": "code",
   "execution_count": 12,
   "id": "5ad31dce-50a9-455d-bf1f-e21a031b4e1d",
   "metadata": {},
   "outputs": [],
   "source": [
    "def recommendor_input(top_n=5):\n",
    "    # Take input from user\n",
    "    brand = input(\"Enter brand (or press Enter to skip): \").strip()\n",
    "    category = input(\"Enter category (or press Enter to skip): \").strip()\n",
    "    product = input(\"Enter product name: \").strip()\n",
    "\n",
    "    if not product:\n",
    "        print(\"❌ Product name is required.\")\n",
    "        return None\n",
    "\n",
    "    # Start with full dataset\n",
    "    filtered_df = df.copy()\n",
    "\n",
    "    # Filter by brand if provided\n",
    "    if brand:\n",
    "        filtered_df = filtered_df[filtered_df['Brand'].str.lower() == brand.lower()]\n",
    "        if filtered_df.empty:\n",
    "            print(f\"❌ No products found under Brand='{brand}'.\")\n",
    "            return None\n",
    "\n",
    "    # Filter by category if provided\n",
    "    if category:\n",
    "        filtered_df = filtered_df[filtered_df['Category'].str.lower() == category.lower()]\n",
    "        if filtered_df.empty:\n",
    "            print(f\"❌ No products found under Category='{category}'.\")\n",
    "            return None\n",
    "\n",
    "    # Find matching products (partial or exact match)\n",
    "    matched_products = [p for p in filtered_df['clean_name'].values if product.lower() in p.lower()]\n",
    "\n",
    "    if not matched_products:\n",
    "        print(f\"❌ Product '{product}' not found in the selected filters.\")\n",
    "        return None\n",
    "\n",
    "    # Take the first matched product\n",
    "    matched_product = matched_products[0]\n",
    "    product_index = df[df['clean_name'] == matched_product].index[0]\n",
    "    print(f\"✅ Product found: {matched_product}\")\n",
    "\n",
    "    # Get similarity scores\n",
    "    similarity_list = list(cosine_sim[product_index])\n",
    "\n",
    "    # Get top N similar products (excluding itself)\n",
    "    top_similar_products = sorted(\n",
    "        enumerate(similarity_list),\n",
    "        key=lambda x: x[1],\n",
    "        reverse=True\n",
    "    )[1:top_n+1]\n",
    "\n",
    "    # Collect recommendations\n",
    "    recommendations = []\n",
    "    for idx, sim_score in top_similar_products:\n",
    "        rec = {\n",
    "            \"Product Name\": df.iloc[idx][\"Product Name\"],\n",
    "            \"Brand\": df.iloc[idx][\"Brand\"],\n",
    "            \"Category\": df.iloc[idx][\"Category\"],\n",
    "            \"Discount Price\": df.iloc[idx][\"Discount_price\"],\n",
    "            \"Original Price\": df.iloc[idx][\"Original_price\"],\n",
    "            # \"Similarity Score\": round(sim_score, 3)\n",
    "        }\n",
    "        recommendations.append(rec)\n",
    "\n",
    "    # Print recommendations\n",
    "    print(f\"\\n🔎 Top {top_n} recommendations for: {matched_product}\\n\")\n",
    "    for rec in recommendations:\n",
    "        print(f\"- {rec['Product Name']} | {rec['Brand']} | {rec['Category']} | \"\n",
    "              f\"Discount: {rec['Discount Price']} | Original: {rec['Original Price']}\")\n",
    "\n",
    "    # return recommendations\n"
   ]
  },
  {
   "cell_type": "code",
   "execution_count": 13,
   "id": "871c10a6-5716-4f34-ab18-44ed52869f64",
   "metadata": {},
   "outputs": [
    {
     "name": "stdin",
     "output_type": "stream",
     "text": [
      "Enter brand (or press Enter to skip):  \n",
      "Enter category (or press Enter to skip):  \n",
      "Enter product name:  \n"
     ]
    },
    {
     "name": "stdout",
     "output_type": "stream",
     "text": [
      "❌ Product name is required.\n"
     ]
    }
   ],
   "source": [
    "recommendor_input()"
   ]
  },
  {
   "cell_type": "code",
   "execution_count": 15,
   "id": "8ebd5bc6-2451-4b7d-ac0e-ca62176f52eb",
   "metadata": {},
   "outputs": [
    {
     "data": {
      "text/plain": [
       "array(['headphones and earphones', 'Laptop Bag', 'Laptop Charges',\n",
       "       'Laptop', 'Laptop Cooling Pad', 'Mobile', 'Mobile Charge',\n",
       "       'Mobiles', 'Mobile Covers', 'Smart Tv'], dtype=object)"
      ]
     },
     "execution_count": 15,
     "metadata": {},
     "output_type": "execute_result"
    }
   ],
   "source": [
    "df.Category.unique()"
   ]
  },
  {
   "cell_type": "code",
   "execution_count": 20,
   "id": "c0f127f4-6f12-4607-9c1d-9ed2d3b6ae83",
   "metadata": {},
   "outputs": [
    {
     "data": {
      "text/plain": [
       "array([], dtype=object)"
      ]
     },
     "execution_count": 20,
     "metadata": {},
     "output_type": "execute_result"
    }
   ],
   "source": [
    "cat='laptop'\n",
    "\n",
    "df[df['Category'] == cat]['Brand'].unique()"
   ]
  },
  {
   "cell_type": "code",
   "execution_count": 25,
   "id": "d1c14f3b-1fe2-4c66-a343-aaf833640b2c",
   "metadata": {},
   "outputs": [
    {
     "name": "stdout",
     "output_type": "stream",
     "text": [
      "yes\n"
     ]
    }
   ],
   "source": [
    "lap = \"Dell 256Gb laptop windows 11 core i3\"\n",
    "\n",
    "p = 'gb'\n",
    "\n",
    "if p in lap.lower():\n",
    "    print(\"yes\")"
   ]
  },
  {
   "cell_type": "code",
   "execution_count": null,
   "id": "f77c57c7-2705-4b39-aff2-ddd4e22377cc",
   "metadata": {},
   "outputs": [],
   "source": []
  },
  {
   "cell_type": "code",
   "execution_count": null,
   "id": "cda0e520-605e-4cfd-86e0-a2a988d28005",
   "metadata": {},
   "outputs": [],
   "source": []
  }
 ],
 "metadata": {
  "kernelspec": {
   "display_name": "Python 3 (ipykernel)",
   "language": "python",
   "name": "python3"
  },
  "language_info": {
   "codemirror_mode": {
    "name": "ipython",
    "version": 3
   },
   "file_extension": ".py",
   "mimetype": "text/x-python",
   "name": "python",
   "nbconvert_exporter": "python",
   "pygments_lexer": "ipython3",
   "version": "3.12.7"
  }
 },
 "nbformat": 4,
 "nbformat_minor": 5
}
